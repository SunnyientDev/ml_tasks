{
  "nbformat": 4,
  "nbformat_minor": 0,
  "metadata": {
    "colab": {
      "name": "02_Intro_to_Python.ipynb",
      "provenance": []
    },
    "kernelspec": {
      "name": "python3",
      "display_name": "Python 3"
    }
  },
  "cells": [
    {
      "cell_type": "markdown",
      "metadata": {
        "id": "pjGTqDYV-N2V"
      },
      "source": [
        "Больше информации на https://github.com/DLSchool/deep_learning_2018-19"
      ]
    },
    {
      "cell_type": "markdown",
      "metadata": {
        "id": "yw_SO4WSBpNd"
      },
      "source": [
        "\n",
        "Все типы данных в Python относятся к одной из 2-х категорий: изменяемые (mutable) и неизменяемые (unmutable).\n",
        "\n",
        "Неизменяемые объекты:\n",
        "\n",
        "1. числовые данные (int, float),\n",
        "2. bool,\n",
        "3. None,\n",
        "4. символьные строки (class 'str'),\n",
        "5. кортежи (tuple).\n",
        "\n",
        "Изменяемые объекты:\n",
        "\n",
        "1. списки (list),\n",
        "1. множества (set),\n",
        "1. словари (dict).\n",
        "\n",
        "Вновь определяемые пользователем типы (классы) могут быть определены как неизменяемые или изменяемые. \n",
        "\n",
        "Изменяемость объектов определённого типа является принципиально важной характеристикой, определяющей, может ли объект такого типа выступать в качестве ключа для словарей (dict) или нет."
      ]
    },
    {
      "cell_type": "markdown",
      "metadata": {
        "id": "FfkZ0Jt3CA5f"
      },
      "source": [
        "Рассмотрим str (+unicode)"
      ]
    },
    {
      "cell_type": "code",
      "metadata": {
        "colab": {
          "base_uri": "https://localhost:8080/"
        },
        "id": "4vwLi2VSB0Gi",
        "outputId": "781ff571-56d0-43ae-8c9a-6558579d8057"
      },
      "source": [
        "x = \"Your name\"\n",
        "print(x, type(x))\n",
        "\n",
        "y = x.encode('utf-8')\n",
        "print(y, type(y))\n",
        "\n",
        "z = y.decode('utf-8')\n",
        "print(z, type(z))"
      ],
      "execution_count": 21,
      "outputs": [
        {
          "output_type": "stream",
          "text": [
            "Your name <class 'str'>\n",
            "b'Your name' <class 'bytes'>\n",
            "Your name <class 'str'>\n"
          ],
          "name": "stdout"
        }
      ]
    },
    {
      "cell_type": "markdown",
      "metadata": {
        "id": "76oucpugCqpK"
      },
      "source": [
        "Разделение строки"
      ]
    },
    {
      "cell_type": "code",
      "metadata": {
        "colab": {
          "base_uri": "https://localhost:8080/"
        },
        "id": "m2ze0DYJCSbP",
        "outputId": "029ecf22-4996-420d-c427-fb70871c5c3d"
      },
      "source": [
        "splitted_name = \"Your Name\".split(' ')\n",
        "print(splitted_name) "
      ],
      "execution_count": 22,
      "outputs": [
        {
          "output_type": "stream",
          "text": [
            "['Your', 'Name']\n"
          ],
          "name": "stdout"
        }
      ]
    },
    {
      "cell_type": "markdown",
      "metadata": {
        "id": "QKshvVGTC3qV"
      },
      "source": [
        "Кортеж (tuple)"
      ]
    },
    {
      "cell_type": "code",
      "metadata": {
        "colab": {
          "base_uri": "https://localhost:8080/"
        },
        "id": "3nqtHWipC1VU",
        "outputId": "c5655a15-efb5-4fda-9c00-6fabca9502af"
      },
      "source": [
        "t = ('a', 5, 12)\n",
        "print(t)"
      ],
      "execution_count": 25,
      "outputs": [
        {
          "output_type": "stream",
          "text": [
            "('a', 5, 12)\n"
          ],
          "name": "stdout"
        }
      ]
    },
    {
      "cell_type": "code",
      "metadata": {
        "colab": {
          "base_uri": "https://localhost:8080/"
        },
        "id": "Mg1whsxBDLUR",
        "outputId": "d81a914a-6b44-4a11-fc33-09f7ac8fac9f"
      },
      "source": [
        "print(len(t))"
      ],
      "execution_count": 27,
      "outputs": [
        {
          "output_type": "stream",
          "text": [
            "3\n"
          ],
          "name": "stdout"
        }
      ]
    },
    {
      "cell_type": "markdown",
      "metadata": {
        "id": "4rJEypoQDiT7"
      },
      "source": [
        "Встроенные функции (магические методы)\n",
        "\n",
        "1. __new__(cls, [...)\n",
        "Он принимает в качестве параметров класс и потом любые другие аргументы, которые будут переданы в __init__. __new__ используется весьма редко, но иногда бывает полезен, в частности, когда класс наследуется от неизменяемого (immutable) типа, такого как кортеж (tuple) или строка. \n",
        "\n",
        "2. __init__(self, [...)\n",
        "Инициализатор класса. Ему передаётся всё, с чем был вызван первоначальный конструктор (так, например, если мы вызываем x = SomeClass(10, 'foo'), __init__ получит 10 и 'foo' в качестве аргументов. __init__ почти повсеместно используется при определении классов.\n",
        "\n",
        "3. __del__(self)\n",
        "Если __new__ и __init__ образуют конструктор объекта, __del__ это его деструктор. Он не определяет поведение для выражения del x (поэтому этот код не эквивалентен x.__del__()). Скорее, он определяет поведение объекта в то время, когда объект попадает в сборщик мусора. Это может быть довольно удобно для объектов, которые могут требовать дополнительных чисток во время удаления, таких как сокеты или файловыве объекты."
      ]
    },
    {
      "cell_type": "markdown",
      "metadata": {
        "id": "57UE6U4FEZYQ"
      },
      "source": [
        "Задание 1. Выведите список атрибутов класса Exception.\n"
      ]
    },
    {
      "cell_type": "code",
      "metadata": {
        "colab": {
          "base_uri": "https://localhost:8080/"
        },
        "id": "lAPZ16vyDnsY",
        "outputId": "807f4603-d3b9-4f07-ef5d-64ecb4973c3a"
      },
      "source": [
        "dir(Exception)"
      ],
      "execution_count": 30,
      "outputs": [
        {
          "output_type": "execute_result",
          "data": {
            "text/plain": [
              "['__cause__',\n",
              " '__class__',\n",
              " '__context__',\n",
              " '__delattr__',\n",
              " '__dict__',\n",
              " '__dir__',\n",
              " '__doc__',\n",
              " '__eq__',\n",
              " '__format__',\n",
              " '__ge__',\n",
              " '__getattribute__',\n",
              " '__gt__',\n",
              " '__hash__',\n",
              " '__init__',\n",
              " '__init_subclass__',\n",
              " '__le__',\n",
              " '__lt__',\n",
              " '__ne__',\n",
              " '__new__',\n",
              " '__reduce__',\n",
              " '__reduce_ex__',\n",
              " '__repr__',\n",
              " '__setattr__',\n",
              " '__setstate__',\n",
              " '__sizeof__',\n",
              " '__str__',\n",
              " '__subclasshook__',\n",
              " '__suppress_context__',\n",
              " '__traceback__',\n",
              " 'args',\n",
              " 'with_traceback']"
            ]
          },
          "metadata": {
            "tags": []
          },
          "execution_count": 30
        }
      ]
    },
    {
      "cell_type": "markdown",
      "metadata": {
        "id": "PmM1YMhSJFO9"
      },
      "source": [
        "list"
      ]
    },
    {
      "cell_type": "code",
      "metadata": {
        "colab": {
          "base_uri": "https://localhost:8080/"
        },
        "id": "BOSOyokvEfue",
        "outputId": "5fc69e21-d1c4-4638-f703-50cfc80924af"
      },
      "source": [
        "dir(list)"
      ],
      "execution_count": 31,
      "outputs": [
        {
          "output_type": "execute_result",
          "data": {
            "text/plain": [
              "['__add__',\n",
              " '__class__',\n",
              " '__contains__',\n",
              " '__delattr__',\n",
              " '__delitem__',\n",
              " '__dir__',\n",
              " '__doc__',\n",
              " '__eq__',\n",
              " '__format__',\n",
              " '__ge__',\n",
              " '__getattribute__',\n",
              " '__getitem__',\n",
              " '__gt__',\n",
              " '__hash__',\n",
              " '__iadd__',\n",
              " '__imul__',\n",
              " '__init__',\n",
              " '__init_subclass__',\n",
              " '__iter__',\n",
              " '__le__',\n",
              " '__len__',\n",
              " '__lt__',\n",
              " '__mul__',\n",
              " '__ne__',\n",
              " '__new__',\n",
              " '__reduce__',\n",
              " '__reduce_ex__',\n",
              " '__repr__',\n",
              " '__reversed__',\n",
              " '__rmul__',\n",
              " '__setattr__',\n",
              " '__setitem__',\n",
              " '__sizeof__',\n",
              " '__str__',\n",
              " '__subclasshook__',\n",
              " 'append',\n",
              " 'clear',\n",
              " 'copy',\n",
              " 'count',\n",
              " 'extend',\n",
              " 'index',\n",
              " 'insert',\n",
              " 'pop',\n",
              " 'remove',\n",
              " 'reverse',\n",
              " 'sort']"
            ]
          },
          "metadata": {
            "tags": []
          },
          "execution_count": 31
        }
      ]
    },
    {
      "cell_type": "code",
      "metadata": {
        "colab": {
          "base_uri": "https://localhost:8080/"
        },
        "id": "FiqZErU5JNsx",
        "outputId": "3404f425-059a-4d11-fabe-48dadd59c385"
      },
      "source": [
        "l = list()\n",
        "l.append(int(3))\n",
        "print(l)"
      ],
      "execution_count": 35,
      "outputs": [
        {
          "output_type": "stream",
          "text": [
            "[3]\n"
          ],
          "name": "stdout"
        }
      ]
    },
    {
      "cell_type": "code",
      "metadata": {
        "colab": {
          "base_uri": "https://localhost:8080/"
        },
        "id": "1gUmd6YjJUjX",
        "outputId": "66f25a5b-6ace-47ea-9fb6-ba6a6434a456"
      },
      "source": [
        "for i in range(4):\n",
        "  l.append(i)\n",
        "print(sorted(l))"
      ],
      "execution_count": 39,
      "outputs": [
        {
          "output_type": "stream",
          "text": [
            "[0, 1, 2, 3, 3]\n"
          ],
          "name": "stdout"
        }
      ]
    },
    {
      "cell_type": "markdown",
      "metadata": {
        "id": "TMtiLNiLJxGm"
      },
      "source": [
        "Задание 2. \n",
        "Даны два списка одинаковых размеров из одинаковых элементов:\n",
        "items = [1 5 6 9 8 7 2 3 4]\n",
        "shuffled_items = [2 3 4 1 6 5 7 9 8]\n",
        "\n",
        "Расставьте элементы (с помощью функции sort()) в списоке items так, чтобы получился список shuffled_items"
      ]
    },
    {
      "cell_type": "code",
      "metadata": {
        "colab": {
          "base_uri": "https://localhost:8080/"
        },
        "id": "Q2Y54ZliJZ1c",
        "outputId": "65b2a679-f9eb-48fd-feed-62f88a9d04d1"
      },
      "source": [
        "items = [1, 5, 6, 9, 8, 7, 2, 3, 4]\n",
        "shuffled_items = [2, 3, 4, 1, 6, 5, 7, 9, 8]\n",
        "\n",
        "print(sorted(items, key = lambda x: shuffled_items.index(x)))"
      ],
      "execution_count": 40,
      "outputs": [
        {
          "output_type": "stream",
          "text": [
            "[2, 3, 4, 1, 6, 5, 7, 9, 8]\n"
          ],
          "name": "stdout"
        }
      ]
    },
    {
      "cell_type": "markdown",
      "metadata": {
        "id": "iHQH6WdqKpu6"
      },
      "source": [
        "enumerate, zip"
      ]
    },
    {
      "cell_type": "code",
      "metadata": {
        "colab": {
          "base_uri": "https://localhost:8080/"
        },
        "id": "il_m6IpeKXRC",
        "outputId": "c88c7fba-d25f-455c-cfda-c1afa85a22f0"
      },
      "source": [
        "first = 'a b c d e f g'.split(' ')\n",
        "second = '1 2 3 4 5 6 7'.split(' ')\n",
        "\n",
        "zip(first, second) #упаковали"
      ],
      "execution_count": 41,
      "outputs": [
        {
          "output_type": "execute_result",
          "data": {
            "text/plain": [
              "<zip at 0x7f1988e70748>"
            ]
          },
          "metadata": {
            "tags": []
          },
          "execution_count": 41
        }
      ]
    },
    {
      "cell_type": "code",
      "metadata": {
        "colab": {
          "base_uri": "https://localhost:8080/"
        },
        "id": "7r9fdKpGKsYz",
        "outputId": "d2c0040a-c861-4279-e8bb-83ef1be82422"
      },
      "source": [
        "enum = enumerate(first) #нумеруем\n",
        "print(list(enum))"
      ],
      "execution_count": 44,
      "outputs": [
        {
          "output_type": "stream",
          "text": [
            "[(0, 'a'), (1, 'b'), (2, 'c'), (3, 'd'), (4, 'e'), (5, 'f'), (6, 'g')]\n"
          ],
          "name": "stdout"
        }
      ]
    },
    {
      "cell_type": "markdown",
      "metadata": {
        "id": "YgBSK0SULPVq"
      },
      "source": [
        "Задание 3. \n",
        "Создайте список a, состоящий из каких-то элементов.\n",
        "Создайте список b такого же размера, как a, состоящий из каких-то элементов.\n",
        "Выведите нумерованный список пар из элементов списков a и b."
      ]
    },
    {
      "cell_type": "code",
      "metadata": {
        "colab": {
          "base_uri": "https://localhost:8080/"
        },
        "id": "KrMGr1fHLA9_",
        "outputId": "25a8ad69-1f42-4418-cf75-b2f9c1f21f9f"
      },
      "source": [
        "a = list(range(5))\n",
        "b = ['a', 'b', 'c', 'd', 'e']\n",
        "\n",
        "print(list(enumerate(zip(a,b))))"
      ],
      "execution_count": 46,
      "outputs": [
        {
          "output_type": "stream",
          "text": [
            "[(0, (0, 'a')), (1, (1, 'b')), (2, (2, 'c')), (3, (3, 'd')), (4, (4, 'e'))]\n"
          ],
          "name": "stdout"
        }
      ]
    },
    {
      "cell_type": "markdown",
      "metadata": {
        "id": "5_lkAIlnMAIp"
      },
      "source": [
        "Упрощенное создание списков"
      ]
    },
    {
      "cell_type": "code",
      "metadata": {
        "colab": {
          "base_uri": "https://localhost:8080/"
        },
        "id": "2FGNEjUpL1F4",
        "outputId": "dcafa059-9b7e-4e2d-ef58-acd1b0fbfb82"
      },
      "source": [
        "a = [x for x in range(1,6)]\n",
        "print(a)"
      ],
      "execution_count": 47,
      "outputs": [
        {
          "output_type": "stream",
          "text": [
            "[1, 2, 3, 4, 5]\n"
          ],
          "name": "stdout"
        }
      ]
    },
    {
      "cell_type": "code",
      "metadata": {
        "colab": {
          "base_uri": "https://localhost:8080/"
        },
        "id": "kWHfuWlOMNuN",
        "outputId": "6416c8a8-3351-448a-fabe-96e344746786"
      },
      "source": [
        "def f(x):\n",
        "  return x ** 2\n",
        "\n",
        "b = [f(x) for x in range(1,10)]\n",
        "print(b)"
      ],
      "execution_count": 50,
      "outputs": [
        {
          "output_type": "stream",
          "text": [
            "[1, 4, 9, 16, 25, 36, 49, 64, 81]\n"
          ],
          "name": "stdout"
        }
      ]
    },
    {
      "cell_type": "markdown",
      "metadata": {
        "id": "p-o3zFM-M40Q"
      },
      "source": [
        "Задание 4.\n",
        "Выведите список из 100 чисел через запятую"
      ]
    },
    {
      "cell_type": "code",
      "metadata": {
        "colab": {
          "base_uri": "https://localhost:8080/"
        },
        "id": "LnsUmTF6Mo_U",
        "outputId": "0b0cfbff-3fe0-4839-be47-e88ff02714d7"
      },
      "source": [
        "nums = list(range(100))\n",
        "print(', '.join(map(str, nums)))"
      ],
      "execution_count": 51,
      "outputs": [
        {
          "output_type": "stream",
          "text": [
            "0, 1, 2, 3, 4, 5, 6, 7, 8, 9, 10, 11, 12, 13, 14, 15, 16, 17, 18, 19, 20, 21, 22, 23, 24, 25, 26, 27, 28, 29, 30, 31, 32, 33, 34, 35, 36, 37, 38, 39, 40, 41, 42, 43, 44, 45, 46, 47, 48, 49, 50, 51, 52, 53, 54, 55, 56, 57, 58, 59, 60, 61, 62, 63, 64, 65, 66, 67, 68, 69, 70, 71, 72, 73, 74, 75, 76, 77, 78, 79, 80, 81, 82, 83, 84, 85, 86, 87, 88, 89, 90, 91, 92, 93, 94, 95, 96, 97, 98, 99\n"
          ],
          "name": "stdout"
        }
      ]
    },
    {
      "cell_type": "markdown",
      "metadata": {
        "id": "PlNnnCPEaqZ0"
      },
      "source": [
        "Лямбда функции"
      ]
    },
    {
      "cell_type": "code",
      "metadata": {
        "colab": {
          "base_uri": "https://localhost:8080/",
          "height": 36
        },
        "id": "gagF74R1NEqO",
        "outputId": "64e70e9d-cb6e-4ac7-edc7-ecb25d0ebec5"
      },
      "source": [
        "#let's make coffee\n",
        "def make_coffee(size, sugar_dose, **kwargs):\n",
        "  if sugar_dose > 5: \n",
        "    return \"Too mush\"\n",
        "  else:\n",
        "    return \"Done, cup of {0} ml with {1} of sugar\".format(size, sugar_dose)\n",
        "\n",
        "make_coffee(100, 2)"
      ],
      "execution_count": 52,
      "outputs": [
        {
          "output_type": "execute_result",
          "data": {
            "application/vnd.google.colaboratory.intrinsic+json": {
              "type": "string"
            },
            "text/plain": [
              "'Done, cup of 100 ml with 2 of sugar'"
            ]
          },
          "metadata": {
            "tags": []
          },
          "execution_count": 52
        }
      ]
    },
    {
      "cell_type": "markdown",
      "metadata": {
        "id": "LIQJT1XPcgj_"
      },
      "source": [
        "Map, reduce, filter.\n",
        "\n",
        "map(func, iterables) - выполняет преобразование func над элементами iterables и возвращает новый iterable"
      ]
    },
    {
      "cell_type": "code",
      "metadata": {
        "colab": {
          "base_uri": "https://localhost:8080/"
        },
        "id": "vSZgYglecAoU",
        "outputId": "b03a0d95-9d1b-4f36-f32e-493cb49d049f"
      },
      "source": [
        "l1 = [1,2,3,4]\n",
        "l2 = [11, 12, 13, 14, 15]\n",
        "l3 = [101, 102, 103]\n",
        "\n",
        "sum = list(map(lambda x,y,z: x+y+z, l1, l2, l3))\n",
        "sum"
      ],
      "execution_count": 58,
      "outputs": [
        {
          "output_type": "execute_result",
          "data": {
            "text/plain": [
              "[113, 116, 119]"
            ]
          },
          "metadata": {
            "tags": []
          },
          "execution_count": 58
        }
      ]
    },
    {
      "cell_type": "markdown",
      "metadata": {
        "id": "1RGeMdXedjrj"
      },
      "source": [
        "reduce(func, iterables) - производит вычисление с элементами последовательности, результатом которого является одно значение"
      ]
    },
    {
      "cell_type": "code",
      "metadata": {
        "colab": {
          "base_uri": "https://localhost:8080/"
        },
        "id": "mCXeIW-xcxCj",
        "outputId": "79e7e379-213d-4f1c-d00a-a2deeb2960a8"
      },
      "source": [
        "from functools import reduce\n",
        "\n",
        "letter_counts = [1,2]\n",
        "\n",
        "sum = reduce(lambda x,y: x+y,letter_counts)\n",
        "print(sum)"
      ],
      "execution_count": 61,
      "outputs": [
        {
          "output_type": "stream",
          "text": [
            "3\n"
          ],
          "name": "stdout"
        }
      ]
    },
    {
      "cell_type": "markdown",
      "metadata": {
        "id": "jPSdA7cceUOe"
      },
      "source": [
        "filter(predicate, iterable) - оставляет только те элементы, для которых верен предикат (функция, возвращающая bool)"
      ]
    },
    {
      "cell_type": "code",
      "metadata": {
        "colab": {
          "base_uri": "https://localhost:8080/"
        },
        "id": "NjKGi4Tld4Lh",
        "outputId": "e5afd2b5-681f-4167-8c76-ae40bfe28933"
      },
      "source": [
        "mixed = ['мак', 'просо', 'мак', 'мак', 'просо', 'мак', 'просо', 'просо', 'просо', 'мак']\n",
        "only_mac = list(filter(lambda x: x == 'мак', mixed))\n",
        "print(only_mac)"
      ],
      "execution_count": 62,
      "outputs": [
        {
          "output_type": "stream",
          "text": [
            "['мак', 'мак', 'мак', 'мак', 'мак']\n"
          ],
          "name": "stdout"
        }
      ]
    },
    {
      "cell_type": "markdown",
      "metadata": {
        "id": "0uNOT87jmBrK"
      },
      "source": [
        "Задание 5.\n",
        "Дан массив строк: ['agfkd.,f', 'Qksdf;sb&..', 'asdoo*', 'bgf...d', 're54()kj[]].']\n",
        "\n",
        "Создайте список, состоящий из количества точек в каждой строке. Выведите его\n",
        "\n",
        "Создайте новый список, в котором будут только строки, в которых более 2-х точек. Выведите его"
      ]
    },
    {
      "cell_type": "code",
      "metadata": {
        "colab": {
          "base_uri": "https://localhost:8080/"
        },
        "id": "qA25dpq6edUf",
        "outputId": "5dbe2777-e045-4809-d1ec-0b9016276620"
      },
      "source": [
        "list1 = ['agfkd.,f', 'Qksdf;sb&..', 'asdoo*', 'bgf...d', 're54()kj[]].']\n",
        "\n",
        "list_counts = list(map(lambda x: x.count('.'), list1))\n",
        "print(list_counts)\n",
        "\n",
        "list_counts = list(filter(lambda x: x.count('.') > 2, list1))\n",
        "print(list_counts)"
      ],
      "execution_count": 65,
      "outputs": [
        {
          "output_type": "stream",
          "text": [
            "[1, 2, 0, 3, 1]\n",
            "['bgf...d']\n"
          ],
          "name": "stdout"
        }
      ]
    },
    {
      "cell_type": "markdown",
      "metadata": {
        "id": "deuH_NAEm3HM"
      },
      "source": [
        "set (множества)"
      ]
    },
    {
      "cell_type": "code",
      "metadata": {
        "colab": {
          "base_uri": "https://localhost:8080/"
        },
        "id": "x8eDH6SPmUur",
        "outputId": "f71bfe0c-efac-49f9-a837-26557a0fd389"
      },
      "source": [
        "s = set()\n",
        "s.add(1)\n",
        "s"
      ],
      "execution_count": 68,
      "outputs": [
        {
          "output_type": "execute_result",
          "data": {
            "text/plain": [
              "{1}"
            ]
          },
          "metadata": {
            "tags": []
          },
          "execution_count": 68
        }
      ]
    },
    {
      "cell_type": "markdown",
      "metadata": {
        "id": "Cyqapa8fnS1i"
      },
      "source": [
        "Словари"
      ]
    },
    {
      "cell_type": "code",
      "metadata": {
        "colab": {
          "base_uri": "https://localhost:8080/"
        },
        "id": "byXb-xL-nBxZ",
        "outputId": "a32a0dc5-bfbd-48a3-d79d-ca8c1813f92d"
      },
      "source": [
        "d = dict(short = 'dict', longi = 'dictionary')\n",
        "d"
      ],
      "execution_count": 69,
      "outputs": [
        {
          "output_type": "execute_result",
          "data": {
            "text/plain": [
              "{'longi': 'dictionary', 'short': 'dict'}"
            ]
          },
          "metadata": {
            "tags": []
          },
          "execution_count": 69
        }
      ]
    },
    {
      "cell_type": "code",
      "metadata": {
        "colab": {
          "base_uri": "https://localhost:8080/"
        },
        "id": "LAQkvN4Fnte3",
        "outputId": "50999609-4a49-4a82-ada0-181ba3fec607"
      },
      "source": [
        "d = dict([(1,1), (2,4)])\n",
        "d"
      ],
      "execution_count": 70,
      "outputs": [
        {
          "output_type": "execute_result",
          "data": {
            "text/plain": [
              "{1: 1, 2: 4}"
            ]
          },
          "metadata": {
            "tags": []
          },
          "execution_count": 70
        }
      ]
    },
    {
      "cell_type": "markdown",
      "metadata": {
        "id": "nfej7Vt_oCLn"
      },
      "source": [
        "Классы\n",
        "\n",
        "self представляет собой экземпляр класса. Используя ключевое слово «self», мы можем получить доступ к атрибутам и методам класса в python. Он связывает атрибуты с заданными аргументами.\n",
        "\n",
        "Причина, по которой вам нужно использовать self. потому что Python не использует синтаксис @ для ссылки на атрибуты экземпляра.\n",
        "Python решил делать методы таким образом, чтобы экземпляр, которому принадлежит метод, передавался автоматически, но не принимался автоматически: первый параметр методов - это экземпляр, для которого метод вызывается."
      ]
    },
    {
      "cell_type": "code",
      "metadata": {
        "colab": {
          "base_uri": "https://localhost:8080/"
        },
        "id": "M-iIXobYn2OI",
        "outputId": "0a26d75b-a317-49c3-8782-e8d297e2446a"
      },
      "source": [
        "class Human:\n",
        "  def __init__(self, name = '', age = None, deep_learning_spec = False):\n",
        "    self.name = name\n",
        "    self.age = age\n",
        "    self.deep_learning_spec = deep_learning_spec\n",
        "\n",
        "  def set_age(self, age):\n",
        "    self.age = age\n",
        "\n",
        "  def get_age(self):\n",
        "    return self.age\n",
        "\n",
        "  def __str__(self):\n",
        "    return 'Name: {}\\nAge: {} \\\n",
        "                \\nIs deep learning specialist: {}'.format(self.name, self.age, \n",
        "                                                          self.deep_learning_spec)\n",
        "                \n",
        "class DLSstudent(Human):\n",
        "  def __init__(self, name='', age=None, deep_learning_spec=False):\n",
        "    super().__init__(name, age, deep_learning_spec)\n",
        "    self.total_grade = None\n",
        "    self.deep_learning_spec = True\n",
        "\n",
        "  def __str__(self):\n",
        "    return super().__str__()\n",
        "\n",
        "human = Human('Person', 17)\n",
        "print(human)\n",
        "\n",
        "student = DLSstudent('Dood Person', 18)\n",
        "print(student)"
      ],
      "execution_count": 72,
      "outputs": [
        {
          "output_type": "stream",
          "text": [
            "Name: Person\n",
            "Age: 17                 \n",
            "Is deep learning specialist: False\n",
            "Name: Dood Person\n",
            "Age: 18                 \n",
            "Is deep learning specialist: True\n"
          ],
          "name": "stdout"
        }
      ]
    },
    {
      "cell_type": "markdown",
      "metadata": {
        "id": "HoWm83dIsWkp"
      },
      "source": [
        "Исключение"
      ]
    },
    {
      "cell_type": "code",
      "metadata": {
        "colab": {
          "base_uri": "https://localhost:8080/",
          "height": 168
        },
        "id": "MZ8uQ4Kzr09R",
        "outputId": "d9f95df8-305a-41b3-c725-15e1a5510d6f"
      },
      "source": [
        "raise KeyboardInterrupt()"
      ],
      "execution_count": 75,
      "outputs": [
        {
          "output_type": "error",
          "ename": "KeyboardInterrupt",
          "evalue": "ignored",
          "traceback": [
            "\u001b[0;31m---------------------------------------------------------------------------\u001b[0m",
            "\u001b[0;31mKeyboardInterrupt\u001b[0m                         Traceback (most recent call last)",
            "\u001b[0;32m<ipython-input-75-e3057c5353ff>\u001b[0m in \u001b[0;36m<module>\u001b[0;34m()\u001b[0m\n\u001b[0;32m----> 1\u001b[0;31m \u001b[0;32mraise\u001b[0m \u001b[0mKeyboardInterrupt\u001b[0m\u001b[0;34m(\u001b[0m\u001b[0;34m)\u001b[0m\u001b[0;34m\u001b[0m\u001b[0;34m\u001b[0m\u001b[0m\n\u001b[0m",
            "\u001b[0;31mKeyboardInterrupt\u001b[0m: "
          ]
        }
      ]
    },
    {
      "cell_type": "code",
      "metadata": {
        "colab": {
          "base_uri": "https://localhost:8080/"
        },
        "id": "gh3dQtaUscY8",
        "outputId": "b0476fdd-911c-4c31-b17c-592e93d0ffb5"
      },
      "source": [
        "try:\n",
        "  dicti = {1:100, 2:200}\n",
        "  print(dicti['NEW'])\n",
        "except KeyError:\n",
        "  print(\"KeyError\")"
      ],
      "execution_count": 76,
      "outputs": [
        {
          "output_type": "stream",
          "text": [
            "KeyError\n"
          ],
          "name": "stdout"
        }
      ]
    }
  ]
}