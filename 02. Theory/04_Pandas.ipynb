{
  "nbformat": 4,
  "nbformat_minor": 0,
  "metadata": {
    "colab": {
      "name": "04_Pandas.ipynb",
      "provenance": []
    },
    "kernelspec": {
      "name": "python3",
      "display_name": "Python 3"
    }
  },
  "cells": [
    {
      "cell_type": "markdown",
      "metadata": {
        "id": "NSTHfmOYtdx2"
      },
      "source": [
        "Библиотека pandas активно используется в современном data science для работы с данными, которые могут быть представлены в виде таблиц (а это очень, очень большая часть данных)\n"
      ]
    },
    {
      "cell_type": "code",
      "metadata": {
        "id": "zeYHEz4S2YK7"
      },
      "source": [
        "import numpy as np\n",
        "import pandas as pd"
      ],
      "execution_count": 86,
      "outputs": []
    },
    {
      "cell_type": "code",
      "metadata": {
        "colab": {
          "base_uri": "https://localhost:8080/"
        },
        "id": "-RBewM5a2mJ1",
        "outputId": "44bcc2c9-7cac-47c3-86aa-7ba61429fc78"
      },
      "source": [
        "!wget https://www.kaggle.com/ramamet4/app-store-apple-data-set-10k-apps"
      ],
      "execution_count": 87,
      "outputs": [
        {
          "output_type": "stream",
          "text": [
            "--2020-11-19 14:13:42--  https://www.kaggle.com/ramamet4/app-store-apple-data-set-10k-apps\n",
            "Resolving www.kaggle.com (www.kaggle.com)... 35.244.233.98\n",
            "Connecting to www.kaggle.com (www.kaggle.com)|35.244.233.98|:443... connected.\n",
            "HTTP request sent, awaiting response... 200 OK\n",
            "Length: unspecified [text/html]\n",
            "Saving to: ‘app-store-apple-data-set-10k-apps’\n",
            "\n",
            "app-store-apple-dat     [   <=>              ]  64.93K   147KB/s    in 0.4s    \n",
            "\n",
            "2020-11-19 14:13:44 (147 KB/s) - ‘app-store-apple-data-set-10k-apps’ saved [66490]\n",
            "\n"
          ],
          "name": "stdout"
        }
      ]
    },
    {
      "cell_type": "code",
      "metadata": {
        "colab": {
          "base_uri": "https://localhost:8080/"
        },
        "id": "SmqaKpQF2pK1",
        "outputId": "63fbb07a-4f59-442f-f458-c277d4f2a540"
      },
      "source": [
        "data = pd.read_csv('/tmp/AppleStore.csv')\n",
        "print(data)"
      ],
      "execution_count": 89,
      "outputs": [
        {
          "output_type": "stream",
          "text": [
            "      Unnamed: 0          id  ... lang.num  vpp_lic\n",
            "0              1   281656475  ...       10        1\n",
            "1              2   281796108  ...       23        1\n",
            "2              3   281940292  ...        3        1\n",
            "3              4   282614216  ...        9        1\n",
            "4              5   282935706  ...       45        1\n",
            "...          ...         ...  ...      ...      ...\n",
            "7192       11081  1187617475  ...        1        1\n",
            "7193       11082  1187682390  ...        1        1\n",
            "7194       11087  1187779532  ...        1        1\n",
            "7195       11089  1187838770  ...        2        1\n",
            "7196       11097  1188375727  ...        2        1\n",
            "\n",
            "[7197 rows x 17 columns]\n"
          ],
          "name": "stdout"
        }
      ]
    },
    {
      "cell_type": "code",
      "metadata": {
        "colab": {
          "base_uri": "https://localhost:8080/"
        },
        "id": "1kk_nVPd24ab",
        "outputId": "bc17ecab-1721-4fb6-c7af-3e360ce18701"
      },
      "source": [
        "data.info()"
      ],
      "execution_count": 90,
      "outputs": [
        {
          "output_type": "stream",
          "text": [
            "<class 'pandas.core.frame.DataFrame'>\n",
            "RangeIndex: 7197 entries, 0 to 7196\n",
            "Data columns (total 17 columns):\n",
            " #   Column            Non-Null Count  Dtype  \n",
            "---  ------            --------------  -----  \n",
            " 0   Unnamed: 0        7197 non-null   int64  \n",
            " 1   id                7197 non-null   int64  \n",
            " 2   track_name        7197 non-null   object \n",
            " 3   size_bytes        7197 non-null   int64  \n",
            " 4   currency          7197 non-null   object \n",
            " 5   price             7197 non-null   float64\n",
            " 6   rating_count_tot  7197 non-null   int64  \n",
            " 7   rating_count_ver  7197 non-null   int64  \n",
            " 8   user_rating       7197 non-null   float64\n",
            " 9   user_rating_ver   7197 non-null   float64\n",
            " 10  ver               7197 non-null   object \n",
            " 11  cont_rating       7197 non-null   object \n",
            " 12  prime_genre       7197 non-null   object \n",
            " 13  sup_devices.num   7197 non-null   int64  \n",
            " 14  ipadSc_urls.num   7197 non-null   int64  \n",
            " 15  lang.num          7197 non-null   int64  \n",
            " 16  vpp_lic           7197 non-null   int64  \n",
            "dtypes: float64(3), int64(9), object(5)\n",
            "memory usage: 956.0+ KB\n"
          ],
          "name": "stdout"
        }
      ]
    },
    {
      "cell_type": "code",
      "metadata": {
        "colab": {
          "base_uri": "https://localhost:8080/",
          "height": 302
        },
        "id": "Bk_Nexv53ZJy",
        "outputId": "80a95735-3505-45d3-c122-12067e433b53"
      },
      "source": [
        "data.describe()"
      ],
      "execution_count": 91,
      "outputs": [
        {
          "output_type": "execute_result",
          "data": {
            "text/html": [
              "<div>\n",
              "<style scoped>\n",
              "    .dataframe tbody tr th:only-of-type {\n",
              "        vertical-align: middle;\n",
              "    }\n",
              "\n",
              "    .dataframe tbody tr th {\n",
              "        vertical-align: top;\n",
              "    }\n",
              "\n",
              "    .dataframe thead th {\n",
              "        text-align: right;\n",
              "    }\n",
              "</style>\n",
              "<table border=\"1\" class=\"dataframe\">\n",
              "  <thead>\n",
              "    <tr style=\"text-align: right;\">\n",
              "      <th></th>\n",
              "      <th>Unnamed: 0</th>\n",
              "      <th>id</th>\n",
              "      <th>size_bytes</th>\n",
              "      <th>price</th>\n",
              "      <th>rating_count_tot</th>\n",
              "      <th>rating_count_ver</th>\n",
              "      <th>user_rating</th>\n",
              "      <th>user_rating_ver</th>\n",
              "      <th>sup_devices.num</th>\n",
              "      <th>ipadSc_urls.num</th>\n",
              "      <th>lang.num</th>\n",
              "      <th>vpp_lic</th>\n",
              "    </tr>\n",
              "  </thead>\n",
              "  <tbody>\n",
              "    <tr>\n",
              "      <th>count</th>\n",
              "      <td>7197.000000</td>\n",
              "      <td>7.197000e+03</td>\n",
              "      <td>7.197000e+03</td>\n",
              "      <td>7197.000000</td>\n",
              "      <td>7.197000e+03</td>\n",
              "      <td>7197.000000</td>\n",
              "      <td>7197.000000</td>\n",
              "      <td>7197.000000</td>\n",
              "      <td>7197.000000</td>\n",
              "      <td>7197.000000</td>\n",
              "      <td>7197.000000</td>\n",
              "      <td>7197.000000</td>\n",
              "    </tr>\n",
              "    <tr>\n",
              "      <th>mean</th>\n",
              "      <td>4759.069612</td>\n",
              "      <td>8.631310e+08</td>\n",
              "      <td>1.991345e+08</td>\n",
              "      <td>1.726218</td>\n",
              "      <td>1.289291e+04</td>\n",
              "      <td>460.373906</td>\n",
              "      <td>3.526956</td>\n",
              "      <td>3.253578</td>\n",
              "      <td>37.361817</td>\n",
              "      <td>3.707100</td>\n",
              "      <td>5.434903</td>\n",
              "      <td>0.993053</td>\n",
              "    </tr>\n",
              "    <tr>\n",
              "      <th>std</th>\n",
              "      <td>3093.625213</td>\n",
              "      <td>2.712368e+08</td>\n",
              "      <td>3.592069e+08</td>\n",
              "      <td>5.833006</td>\n",
              "      <td>7.573941e+04</td>\n",
              "      <td>3920.455183</td>\n",
              "      <td>1.517948</td>\n",
              "      <td>1.809363</td>\n",
              "      <td>3.737715</td>\n",
              "      <td>1.986005</td>\n",
              "      <td>7.919593</td>\n",
              "      <td>0.083066</td>\n",
              "    </tr>\n",
              "    <tr>\n",
              "      <th>min</th>\n",
              "      <td>1.000000</td>\n",
              "      <td>2.816565e+08</td>\n",
              "      <td>5.898240e+05</td>\n",
              "      <td>0.000000</td>\n",
              "      <td>0.000000e+00</td>\n",
              "      <td>0.000000</td>\n",
              "      <td>0.000000</td>\n",
              "      <td>0.000000</td>\n",
              "      <td>9.000000</td>\n",
              "      <td>0.000000</td>\n",
              "      <td>0.000000</td>\n",
              "      <td>0.000000</td>\n",
              "    </tr>\n",
              "    <tr>\n",
              "      <th>25%</th>\n",
              "      <td>2090.000000</td>\n",
              "      <td>6.000937e+08</td>\n",
              "      <td>4.692275e+07</td>\n",
              "      <td>0.000000</td>\n",
              "      <td>2.800000e+01</td>\n",
              "      <td>1.000000</td>\n",
              "      <td>3.500000</td>\n",
              "      <td>2.500000</td>\n",
              "      <td>37.000000</td>\n",
              "      <td>3.000000</td>\n",
              "      <td>1.000000</td>\n",
              "      <td>1.000000</td>\n",
              "    </tr>\n",
              "    <tr>\n",
              "      <th>50%</th>\n",
              "      <td>4380.000000</td>\n",
              "      <td>9.781482e+08</td>\n",
              "      <td>9.715302e+07</td>\n",
              "      <td>0.000000</td>\n",
              "      <td>3.000000e+02</td>\n",
              "      <td>23.000000</td>\n",
              "      <td>4.000000</td>\n",
              "      <td>4.000000</td>\n",
              "      <td>37.000000</td>\n",
              "      <td>5.000000</td>\n",
              "      <td>1.000000</td>\n",
              "      <td>1.000000</td>\n",
              "    </tr>\n",
              "    <tr>\n",
              "      <th>75%</th>\n",
              "      <td>7223.000000</td>\n",
              "      <td>1.082310e+09</td>\n",
              "      <td>1.819249e+08</td>\n",
              "      <td>1.990000</td>\n",
              "      <td>2.793000e+03</td>\n",
              "      <td>140.000000</td>\n",
              "      <td>4.500000</td>\n",
              "      <td>4.500000</td>\n",
              "      <td>38.000000</td>\n",
              "      <td>5.000000</td>\n",
              "      <td>8.000000</td>\n",
              "      <td>1.000000</td>\n",
              "    </tr>\n",
              "    <tr>\n",
              "      <th>max</th>\n",
              "      <td>11097.000000</td>\n",
              "      <td>1.188376e+09</td>\n",
              "      <td>4.025970e+09</td>\n",
              "      <td>299.990000</td>\n",
              "      <td>2.974676e+06</td>\n",
              "      <td>177050.000000</td>\n",
              "      <td>5.000000</td>\n",
              "      <td>5.000000</td>\n",
              "      <td>47.000000</td>\n",
              "      <td>5.000000</td>\n",
              "      <td>75.000000</td>\n",
              "      <td>1.000000</td>\n",
              "    </tr>\n",
              "  </tbody>\n",
              "</table>\n",
              "</div>"
            ],
            "text/plain": [
              "         Unnamed: 0            id  ...     lang.num      vpp_lic\n",
              "count   7197.000000  7.197000e+03  ...  7197.000000  7197.000000\n",
              "mean    4759.069612  8.631310e+08  ...     5.434903     0.993053\n",
              "std     3093.625213  2.712368e+08  ...     7.919593     0.083066\n",
              "min        1.000000  2.816565e+08  ...     0.000000     0.000000\n",
              "25%     2090.000000  6.000937e+08  ...     1.000000     1.000000\n",
              "50%     4380.000000  9.781482e+08  ...     1.000000     1.000000\n",
              "75%     7223.000000  1.082310e+09  ...     8.000000     1.000000\n",
              "max    11097.000000  1.188376e+09  ...    75.000000     1.000000\n",
              "\n",
              "[8 rows x 12 columns]"
            ]
          },
          "metadata": {
            "tags": []
          },
          "execution_count": 91
        }
      ]
    },
    {
      "cell_type": "code",
      "metadata": {
        "colab": {
          "base_uri": "https://localhost:8080/"
        },
        "id": "3V-72bOY3dvV",
        "outputId": "ece2ceeb-3c0d-4d1a-f8ed-aa53a3b96963"
      },
      "source": [
        "data.columns"
      ],
      "execution_count": 92,
      "outputs": [
        {
          "output_type": "execute_result",
          "data": {
            "text/plain": [
              "Index(['Unnamed: 0', 'id', 'track_name', 'size_bytes', 'currency', 'price',\n",
              "       'rating_count_tot', 'rating_count_ver', 'user_rating',\n",
              "       'user_rating_ver', 'ver', 'cont_rating', 'prime_genre',\n",
              "       'sup_devices.num', 'ipadSc_urls.num', 'lang.num', 'vpp_lic'],\n",
              "      dtype='object')"
            ]
          },
          "metadata": {
            "tags": []
          },
          "execution_count": 92
        }
      ]
    }
  ]
}