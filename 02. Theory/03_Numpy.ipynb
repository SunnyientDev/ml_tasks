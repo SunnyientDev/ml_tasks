{
  "nbformat": 4,
  "nbformat_minor": 0,
  "metadata": {
    "colab": {
      "name": "03_Numpy.ipynb",
      "provenance": []
    },
    "kernelspec": {
      "name": "python3",
      "display_name": "Python 3"
    }
  },
  "cells": [
    {
      "cell_type": "markdown",
      "metadata": {
        "id": "NSTHfmOYtdx2"
      },
      "source": [
        "# Одномерные массивы (векторы)\n"
      ]
    },
    {
      "cell_type": "code",
      "metadata": {
        "colab": {
          "base_uri": "https://localhost:8080/"
        },
        "id": "e0dRB6zGvix2",
        "outputId": "c40a6117-a78c-4980-f670-fcb524919881"
      },
      "source": [
        "from numpy import *\n",
        "\n",
        "a = np.array([1,2,4])\n",
        "print(a, type(a))"
      ],
      "execution_count": null,
      "outputs": [
        {
          "output_type": "stream",
          "text": [
            "[1 2 4] <class 'numpy.ndarray'>\n"
          ],
          "name": "stdout"
        }
      ]
    },
    {
      "cell_type": "code",
      "metadata": {
        "colab": {
          "base_uri": "https://localhost:8080/"
        },
        "id": "4i12HYsAw0zF",
        "outputId": "c73710b4-1ba4-4f1c-9c07-6ea499d758c4"
      },
      "source": [
        "b = np.array([0., 2,1])\n",
        "print(b.dtype)\n",
        "print(b.astype(int))"
      ],
      "execution_count": null,
      "outputs": [
        {
          "output_type": "stream",
          "text": [
            "float64\n",
            "[0 2 1]\n"
          ],
          "name": "stdout"
        }
      ]
    },
    {
      "cell_type": "code",
      "metadata": {
        "colab": {
          "base_uri": "https://localhost:8080/"
        },
        "id": "uazYReyJxCXn",
        "outputId": "9d2cdb06-8bb7-4b42-f6e7-6f6679338971"
      },
      "source": [
        "print(type(np.arange(0,8)))"
      ],
      "execution_count": null,
      "outputs": [
        {
          "output_type": "stream",
          "text": [
            "<class 'numpy.ndarray'>\n"
          ],
          "name": "stdout"
        }
      ]
    },
    {
      "cell_type": "code",
      "metadata": {
        "colab": {
          "base_uri": "https://localhost:8080/"
        },
        "id": "FBVZzVI4yqMs",
        "outputId": "8f745852-5f63-4a4e-e686-f59b8a5f55d2"
      },
      "source": [
        "a = np.arange(10, -1, -1)\n",
        "a = np.delete(a, [5, 7])\n",
        "print(a)"
      ],
      "execution_count": null,
      "outputs": [
        {
          "output_type": "stream",
          "text": [
            "[10  9  8  7  6  4  2  1  0]\n"
          ],
          "name": "stdout"
        }
      ]
    }
  ]
}