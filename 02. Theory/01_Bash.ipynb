{
  "nbformat": 4,
  "nbformat_minor": 0,
  "metadata": {
    "colab": {
      "name": "01_Bash.ipynb",
      "provenance": []
    },
    "kernelspec": {
      "name": "python3",
      "display_name": "Python 3"
    }
  },
  "cells": [
    {
      "cell_type": "markdown",
      "metadata": {
        "id": "pjGTqDYV-N2V"
      },
      "source": [
        "Больше информации на https://github.com/DLSchool/deep_learning_2018-19"
      ]
    },
    {
      "cell_type": "markdown",
      "metadata": {
        "id": "EfHfJioE-tZD"
      },
      "source": [
        "* Командная строка - вид интерфейса, когда вы набираете текстовые команды\n",
        "* Терминал - Программа, которая отображает строку. Например: gnome-terminal, xterm, tilda\n",
        "* Оболочка (shell) - Программа которая выполняет команды. Например: bash, zsh, ssh\n",
        "*Консоль - Железо, например клавиатура и монитор."
      ]
    },
    {
      "cell_type": "code",
      "metadata": {
        "colab": {
          "base_uri": "https://localhost:8080/"
        },
        "id": "880u80RQ-FzG",
        "outputId": "6fc2112b-1048-4cbc-df64-71fe0979ccaa"
      },
      "source": [
        "!echo \"Hi!\""
      ],
      "execution_count": 5,
      "outputs": [
        {
          "output_type": "stream",
          "text": [
            "Hi!\n"
          ],
          "name": "stdout"
        }
      ]
    },
    {
      "cell_type": "markdown",
      "metadata": {
        "id": "5bzVXMRn_JOz"
      },
      "source": [
        "Файловая система"
      ]
    },
    {
      "cell_type": "code",
      "metadata": {
        "colab": {
          "base_uri": "https://localhost:8080/"
        },
        "id": "v2TeZviH-4Jc",
        "outputId": "c6a4952f-adfb-4255-871f-b4b716b6509c"
      },
      "source": [
        "!pwd #текущая директория"
      ],
      "execution_count": 6,
      "outputs": [
        {
          "output_type": "stream",
          "text": [
            "/content\n"
          ],
          "name": "stdout"
        }
      ]
    },
    {
      "cell_type": "code",
      "metadata": {
        "colab": {
          "base_uri": "https://localhost:8080/"
        },
        "id": "T-dwCbkq_PCy",
        "outputId": "5480f2b4-ea03-4437-b1ce-03c62356ffa6"
      },
      "source": [
        "!ls #что лежит в директории"
      ],
      "execution_count": 7,
      "outputs": [
        {
          "output_type": "stream",
          "text": [
            "sample_data\n"
          ],
          "name": "stdout"
        }
      ]
    },
    {
      "cell_type": "code",
      "metadata": {
        "id": "Mh82ciiQ_TlU"
      },
      "source": [
        "!touch test-file.txt #создадим файл"
      ],
      "execution_count": 8,
      "outputs": []
    },
    {
      "cell_type": "code",
      "metadata": {
        "colab": {
          "base_uri": "https://localhost:8080/"
        },
        "id": "k_6Ki5OS_fOr",
        "outputId": "6b572e9a-d8b9-4b35-9ece-ecede77f1be2"
      },
      "source": [
        "!ls"
      ],
      "execution_count": 9,
      "outputs": [
        {
          "output_type": "stream",
          "text": [
            "sample_data  test-file.txt\n"
          ],
          "name": "stdout"
        }
      ]
    },
    {
      "cell_type": "code",
      "metadata": {
        "id": "TrAuop-4_h8j"
      },
      "source": [
        "rm test-file.txt #удалить файл"
      ],
      "execution_count": 10,
      "outputs": []
    },
    {
      "cell_type": "code",
      "metadata": {
        "colab": {
          "base_uri": "https://localhost:8080/"
        },
        "id": "v2mz0vGp_ldK",
        "outputId": "4a74421f-b248-480c-8aa4-84151894b922"
      },
      "source": [
        "!ls"
      ],
      "execution_count": 11,
      "outputs": [
        {
          "output_type": "stream",
          "text": [
            "sample_data\n"
          ],
          "name": "stdout"
        }
      ]
    },
    {
      "cell_type": "code",
      "metadata": {
        "id": "8szhW0Q5_mrC"
      },
      "source": [
        "!mkdir new_dir1 #создадим папку"
      ],
      "execution_count": 15,
      "outputs": []
    },
    {
      "cell_type": "code",
      "metadata": {
        "colab": {
          "base_uri": "https://localhost:8080/"
        },
        "id": "f-hlfaIz_6Si",
        "outputId": "9f7a5582-9196-4efb-c9b5-abd3587d8cb9"
      },
      "source": [
        "!ls -al #отобразить все, даже скрытые файлы"
      ],
      "execution_count": 16,
      "outputs": [
        {
          "output_type": "stream",
          "text": [
            "total 24\n",
            "drwxr-xr-x 1 root root 4096 Nov 19 10:15 .\n",
            "drwxr-xr-x 1 root root 4096 Nov 19 10:08 ..\n",
            "drwxr-xr-x 1 root root 4096 Nov 13 17:34 .config\n",
            "drwxr-xr-x 2 root root 4096 Nov 19 10:14 new_dir\n",
            "drwxr-xr-x 2 root root 4096 Nov 19 10:15 new_dir1\n",
            "drwxr-xr-x 1 root root 4096 Nov 13 17:33 sample_data\n"
          ],
          "name": "stdout"
        }
      ]
    },
    {
      "cell_type": "code",
      "metadata": {
        "colab": {
          "base_uri": "https://localhost:8080/"
        },
        "id": "BgatUV2MAIyG",
        "outputId": "94474c52-b43c-46c5-b51f-8e672b208fe0"
      },
      "source": [
        "%cd new_dir/ #перейти в другую папку"
      ],
      "execution_count": 17,
      "outputs": [
        {
          "output_type": "stream",
          "text": [
            "/content/new_dir\n"
          ],
          "name": "stdout"
        }
      ]
    },
    {
      "cell_type": "markdown",
      "metadata": {
        "id": "oGrNtITOAkmm"
      },
      "source": [
        "Скачивание файлов"
      ]
    },
    {
      "cell_type": "code",
      "metadata": {
        "colab": {
          "base_uri": "https://localhost:8080/"
        },
        "id": "b6E_FJljAXdV",
        "outputId": "a622c2cb-218a-457f-aef2-862a95e4ed43"
      },
      "source": [
        "!wget instagram.com -O insta.html"
      ],
      "execution_count": 18,
      "outputs": [
        {
          "output_type": "stream",
          "text": [
            "--2020-11-19 10:19:02--  http://instagram.com/\n",
            "Resolving instagram.com (instagram.com)... 3.222.43.26, 3.224.217.26, 34.197.66.165, ...\n",
            "Connecting to instagram.com (instagram.com)|3.222.43.26|:80... connected.\n",
            "HTTP request sent, awaiting response... 301 Moved Permanently\n",
            "Location: https://instagram.com/ [following]\n",
            "--2020-11-19 10:19:03--  https://instagram.com/\n",
            "Connecting to instagram.com (instagram.com)|3.222.43.26|:443... connected.\n",
            "HTTP request sent, awaiting response... 301 Moved Permanently\n",
            "Location: https://www.instagram.com/ [following]\n",
            "--2020-11-19 10:19:03--  https://www.instagram.com/\n",
            "Resolving www.instagram.com (www.instagram.com)... 157.240.211.174, 2a03:2880:f25a:e0:face:b00c:0:4420\n",
            "Connecting to www.instagram.com (www.instagram.com)|157.240.211.174|:443... connected.\n",
            "HTTP request sent, awaiting response... 200 OK\n",
            "Cookie coming from www.instagram.com attempted to set domain to i.instagram.com\n",
            "Cookie coming from www.instagram.com attempted to set domain to i.instagram.com\n",
            "Length: 48330 (47K) [text/html]\n",
            "Saving to: ‘insta.html’\n",
            "\n",
            "insta.html          100%[===================>]  47.20K  --.-KB/s    in 0.02s   \n",
            "\n",
            "2020-11-19 10:19:04 (2.14 MB/s) - ‘insta.html’ saved [48330/48330]\n",
            "\n"
          ],
          "name": "stdout"
        }
      ]
    }
  ]
}